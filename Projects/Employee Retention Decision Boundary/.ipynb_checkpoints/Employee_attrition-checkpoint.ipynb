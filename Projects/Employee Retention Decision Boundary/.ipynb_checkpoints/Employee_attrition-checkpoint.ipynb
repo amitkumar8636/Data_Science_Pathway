{
 "cells": [
  {
   "cell_type": "code",
   "execution_count": null,
   "id": "125a9874",
   "metadata": {},
   "outputs": [],
   "source": []
  },
  {
   "cell_type": "markdown",
   "id": "155b19a4-f3bd-4da6-9ad0-424722cbbe78",
   "metadata": {},
   "source": [
    "# Data Expolaration "
   ]
  },
  {
   "cell_type": "markdown",
   "id": "de7982c4-716a-45b6-a4b6-c5a15e08a988",
   "metadata": {},
   "source": [
    "## Overall Data Expoloration "
   ]
  },
  {
   "cell_type": "code",
   "execution_count": null,
   "id": "149e3799-b32d-4118-9571-ed20cc0cb523",
   "metadata": {},
   "outputs": [],
   "source": []
  },
  {
   "cell_type": "markdown",
   "id": "e69f9e52-51bd-442d-a213-c62113cdae96",
   "metadata": {},
   "source": [
    "# 1. Data Cleaning"
   ]
  },
  {
   "cell_type": "markdown",
   "id": "9c16b678-37b0-45fb-abe1-631061bcc255",
   "metadata": {},
   "source": [
    "## 1.1 Outlier Detection and Capping"
   ]
  },
  {
   "cell_type": "markdown",
   "id": "a279f2ee-08a2-430e-a622-3ae8eebedea4",
   "metadata": {},
   "source": [
    "## 1.2 Missing Value Treatment"
   ]
  },
  {
   "cell_type": "code",
   "execution_count": null,
   "id": "c95fc27d-a879-4bb7-b5b4-412fcbd18638",
   "metadata": {},
   "outputs": [],
   "source": []
  },
  {
   "cell_type": "markdown",
   "id": "7f176c1c-e101-4115-a7ce-6e58b989b640",
   "metadata": {},
   "source": [
    "## 2. Feature Engineering "
   ]
  },
  {
   "cell_type": "markdown",
   "id": "3e9e72eb-4f62-4fb4-a2ac-b5dceb0e6b29",
   "metadata": {},
   "source": [
    "### 2.1 New Feature Generation "
   ]
  },
  {
   "cell_type": "markdown",
   "id": "2c41a35b-2894-44f8-ae08-ae254d963a3d",
   "metadata": {},
   "source": [
    "### 2.2 Univariate Analysis"
   ]
  },
  {
   "cell_type": "markdown",
   "id": "696d2ccc-db18-4b0a-85b6-cd58e6d4d596",
   "metadata": {},
   "source": [
    "### 2.3 Zero Variance Check"
   ]
  },
  {
   "cell_type": "markdown",
   "id": "f3c056e9-85ad-42a0-897d-e34737d05fd3",
   "metadata": {},
   "source": [
    "### 2.4 Bi Variate Analysis"
   ]
  },
  {
   "cell_type": "code",
   "execution_count": null,
   "id": "11302ab3-9e5a-46e6-b2c2-e57d7a8ff134",
   "metadata": {},
   "outputs": [],
   "source": []
  },
  {
   "cell_type": "markdown",
   "id": "aa721e3c-fe87-4caf-ae53-464ec3ae9064",
   "metadata": {},
   "source": [
    "## 3. Model Building"
   ]
  },
  {
   "cell_type": "markdown",
   "id": "7c654edd-f1de-4f62-a88e-53f1919c13d1",
   "metadata": {},
   "source": [
    "### 3.1 DecisionTree Classifier"
   ]
  },
  {
   "cell_type": "markdown",
   "id": "14a0048d-b165-4476-947d-d7a0a4fbaf8b",
   "metadata": {},
   "source": [
    "### 3.2 Logistic Regression"
   ]
  },
  {
   "cell_type": "markdown",
   "id": "d5993b6f-b77c-4314-8032-24ead6300177",
   "metadata": {},
   "source": [
    "### 3.3 GradientBoosing Classifier (Bagging)"
   ]
  },
  {
   "cell_type": "markdown",
   "id": "b8877153-fbdf-4141-af9b-dc54e489fc1d",
   "metadata": {},
   "source": [
    "### 3.4 XG Boost Classifier (Boosting)"
   ]
  },
  {
   "cell_type": "markdown",
   "id": "09b464d4-7c58-4d4f-8764-c7553d247fa0",
   "metadata": {},
   "source": [
    "### 3.5 Stacking Classifier"
   ]
  },
  {
   "cell_type": "markdown",
   "id": "2bd464bb-d7bd-4459-91b6-9de116debaf4",
   "metadata": {},
   "source": [
    "## 4. Model Evaluation "
   ]
  },
  {
   "cell_type": "markdown",
   "id": "d5d137f7-44bc-46c4-a104-fd2bfcce5fb9",
   "metadata": {},
   "source": [
    "### 4.1 Metric Evaluation (Accuracy, Precision, Recall, F1-score, ROC Curve) "
   ]
  },
  {
   "cell_type": "code",
   "execution_count": null,
   "id": "2a31365e-5375-435c-8244-4f3716ce3ac8",
   "metadata": {},
   "outputs": [],
   "source": []
  }
 ],
 "metadata": {
  "kernelspec": {
   "display_name": "Python 3 (ipykernel)",
   "language": "python",
   "name": "python3"
  },
  "language_info": {
   "codemirror_mode": {
    "name": "ipython",
    "version": 3
   },
   "file_extension": ".py",
   "mimetype": "text/x-python",
   "name": "python",
   "nbconvert_exporter": "python",
   "pygments_lexer": "ipython3",
   "version": "3.9.7"
  }
 },
 "nbformat": 4,
 "nbformat_minor": 5
}
