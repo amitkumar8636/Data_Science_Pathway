{
 "cells": [
  {
   "cell_type": "markdown",
   "id": "5e05239e-ee22-4f9e-8500-17a7228095de",
   "metadata": {},
   "source": [
    "## ***General Idea:*** Idea"
   ]
  },
  {
   "cell_type": "raw",
   "id": "30f63e1c-9ebe-438b-991d-57b0f8a06daa",
   "metadata": {},
   "source": [
    "Authored By: Amit Kumar\n",
    "Email: Amitkumar8636@gmail.com\n"
   ]
  },
  {
   "cell_type": "markdown",
   "id": "010ba2fc-5e95-48ff-874e-fbc58070697c",
   "metadata": {},
   "source": [
    "*********************************************************************************************"
   ]
  },
  {
   "cell_type": "markdown",
   "id": "ce02c449-7828-4582-abc2-fd65c2b2f230",
   "metadata": {},
   "source": [
    "***Problem Statment*** : statement"
   ]
  },
  {
   "cell_type": "markdown",
   "id": "cdb26629-4dc5-4b1e-9bab-d983935e067f",
   "metadata": {
    "tags": []
   },
   "source": [
    "# Proceedure:\n",
    "<!-- #### <a id='# Data_Expolaration'> Data Expolaration</a> -->\n",
    "\n",
    "#### [Data Expolaration](#Data_Expolaration)\n",
    "\n",
    "    0.1 Overall Data Expolaration\n",
    "    0.2 Data Seperation Based on Types\n",
    "\n",
    "#### 1. Data Cleaning \n",
    "    1.1 Outlier Detection and Capping\n",
    "    1.2 Missing Value Treatment\n",
    "    1.3 Correlation Analysis\n",
    "\n",
    "#### 2. Feature Engineering\n",
    "    2.1 GeneratingNew Feature\n",
    "    2.2 Zero Variance Check\n",
    "    2.3 Univariate Analysis\n",
    "    2.4 Bi Variate Analysi\n",
    "    2.5 Feature Selection\n",
    "\n",
    "#### 3. Model Building\n",
    "    3.1 Random Forest Classifier\n",
    "    3.2 DecisionTree Classifier\n",
    "    3.3 Logistic Regression\n",
    "    3.4 GradientBoosing Classifier (Bagging)\n",
    "    3.5 XG Boost Classifier\n",
    "    3.6 Stacking Classifier\n",
    "\n",
    "#### 4. Evaluation\n",
    "    4.1 Metric Evaluation (Accuracy, Precision, Recall, F1-score, ROC Curve) \n",
    "    4.2 Model Comparison\n",
    "  \n",
    "\n",
    "*******************************************************************"
   ]
  },
  {
   "cell_type": "markdown",
   "id": "d456d69f-0954-41a5-87db-080fad23576d",
   "metadata": {},
   "source": [
    "# Data Expolaration "
   ]
  },
  {
   "cell_type": "markdown",
   "id": "cd64c788-1b2e-4816-bdce-3054bdcc49ae",
   "metadata": {},
   "source": [
    "## Overall Data Expoloration "
   ]
  },
  {
   "cell_type": "code",
   "execution_count": null,
   "id": "3de0eb41-01aa-4386-8d02-9eb96201b78e",
   "metadata": {},
   "outputs": [],
   "source": [
    " # Importing Required Libararies\n",
    "import pandas as pd\n",
    "import numpy as np\n",
    "import seaborn as sns\n",
    "sns.set(rc = {'figure.figsize':(15,8)})\n",
    "\n",
    "# %matplotlib inline\n",
    "import matplotlib.pyplot as plt\n",
    "\n",
    "import warnings\n",
    "warnings.filterwarnings('ignore')  #Suppressing Warnings\n",
    "\n",
    "import plotly.express as px\n",
    "import plotly.io as pio\n",
    "pio.renderers.default = 'iframe'"
   ]
  },
  {
   "cell_type": "code",
   "execution_count": null,
   "id": "e34b09ba-6db8-4797-8aa0-a9acae986b90",
   "metadata": {},
   "outputs": [],
   "source": [
    "# Setting the pandas to view all the avialble column\n",
    "pd.set_option('display.max_columns',None)"
   ]
  },
  {
   "cell_type": "code",
   "execution_count": null,
   "id": "5a8120f3",
   "metadata": {},
   "outputs": [],
   "source": []
  },
  {
   "cell_type": "code",
   "execution_count": null,
   "id": "593ee021-f739-4e1f-99ff-2216851a5f79",
   "metadata": {},
   "outputs": [],
   "source": [
    "# Reading the data \n",
    "# data = pd.read_csv(\"train.csv\",sep=';')\n",
    "# data.head(2)"
   ]
  },
  {
   "cell_type": "code",
   "execution_count": null,
   "id": "2653e23a-d84d-4e1f-ba5b-f4fda3336c04",
   "metadata": {},
   "outputs": [],
   "source": [
    "data.shape"
   ]
  },
  {
   "cell_type": "code",
   "execution_count": null,
   "id": "4e16dcea-36f3-4789-b823-0a6feee1d014",
   "metadata": {},
   "outputs": [],
   "source": [
    "data.info()"
   ]
  },
  {
   "cell_type": "code",
   "execution_count": null,
   "id": "b01aca65-9e92-4890-b3f1-996242b9a429",
   "metadata": {},
   "outputs": [],
   "source": []
  },
  {
   "cell_type": "markdown",
   "id": "f1d2aa03-afd2-4398-97dd-96e101e4154c",
   "metadata": {},
   "source": [
    "##### For data Processing, Lets Create a copy dataframe for our processing so that some data we dont lost"
   ]
  },
  {
   "cell_type": "code",
   "execution_count": null,
   "id": "4161ec0c-5acd-467e-9e38-ca19f1c13a1b",
   "metadata": {},
   "outputs": [],
   "source": [
    "df = data.copy()\n",
    "df.head(2)"
   ]
  },
  {
   "cell_type": "markdown",
   "id": "830e34be-4239-41f7-81d8-0077b1c550ed",
   "metadata": {},
   "source": [
    "### 0.2 Data Seperation Based on Types"
   ]
  },
  {
   "cell_type": "markdown",
   "id": "e7cf2674-f8b3-4582-9004-0d4232ea82fb",
   "metadata": {},
   "source": [
    "Before Separting the Data Column based on its type, Seperating Dependant and Indepandant Feature Seperately"
   ]
  },
  {
   "cell_type": "code",
   "execution_count": null,
   "id": "33f2206c-e823-4dc4-b93a-08eba99bdedd",
   "metadata": {},
   "outputs": [],
   "source": [
    "df_target = df[['y']]\n",
    "df.drop(columns=['y'],axis=1,inplace=True)\n",
    "df_target.head(2)"
   ]
  },
  {
   "cell_type": "code",
   "execution_count": null,
   "id": "ac36ecb1-be9a-41b0-959f-2bfc9e1bfd93",
   "metadata": {},
   "outputs": [],
   "source": [
    "df_numerical = df.select_dtypes(include=['number'])\n",
    "df_numerical.head(2)"
   ]
  },
  {
   "cell_type": "code",
   "execution_count": null,
   "id": "a10669b2-e59d-4ec6-8daa-e0d700f6487f",
   "metadata": {},
   "outputs": [],
   "source": [
    "df_categorical = df.select_dtypes(include=['object'])\n",
    "df_categorical"
   ]
  },
  {
   "cell_type": "markdown",
   "id": "36d410c5-00b9-489e-9ba8-151902edba05",
   "metadata": {},
   "source": [
    "It might some values are in Numerical in Type but the behavour is Catergorical and Vice Versa.\n",
    "Verifying those data types"
   ]
  },
  {
   "cell_type": "code",
   "execution_count": null,
   "id": "d45767bc-bd0b-4615-a284-fe46b7ad755e",
   "metadata": {},
   "outputs": [],
   "source": [
    "print(\"Numerical dataframe Cross data type Validation\")\n",
    "for col in df_numerical.columns:\n",
    "    print(df_numerical[col].value_counts().shape , f\"Feature {col}\")\n",
    "    \n",
    "print(\"Categorical dataframe Cross data type Validation\")\n",
    "for col in df_categorical.columns:\n",
    "    print(df_categorical[col].value_counts().shape, f\"Feature {col}\")"
   ]
  },
  {
   "cell_type": "markdown",
   "id": "cd753161-0b98-43f0-bc55-17f9477461e1",
   "metadata": {},
   "source": [
    "Looks Good for Both Dataframe, Still we can see **age,day,camapaign, previous and somehow duration as well** are acting like indicator variables, So we will treat like this only"
   ]
  },
  {
   "cell_type": "code",
   "execution_count": null,
   "id": "2f5a753d-6ca5-4915-9512-568357545e7b",
   "metadata": {},
   "outputs": [],
   "source": [
    "indicator_columns = ['age','day','duration','campaign','pdays','previous']\n",
    "df_indicator = df_numerical[indicator_columns]"
   ]
  },
  {
   "cell_type": "code",
   "execution_count": null,
   "id": "a4e60ed4",
   "metadata": {},
   "outputs": [],
   "source": []
  },
  {
   "cell_type": "markdown",
   "id": "bbcda3ca-9091-494e-80af-5326440ef915",
   "metadata": {},
   "source": [
    "# 1. Data Cleaning"
   ]
  },
  {
   "cell_type": "markdown",
   "id": "4c6fe731-d024-483e-a571-e96b30dddbd9",
   "metadata": {},
   "source": [
    "## 1.1 Outlier Detection and Capping"
   ]
  },
  {
   "cell_type": "markdown",
   "id": "9be4afd7-0032-46f1-921c-bad54ee76c5d",
   "metadata": {},
   "source": [
    "### * For Numerical Featuers"
   ]
  },
  {
   "cell_type": "code",
   "execution_count": null,
   "id": "1ad43993-61eb-40f5-be61-7e1f2f3b24c7",
   "metadata": {},
   "outputs": [],
   "source": [
    "df_numerical.describe([0.01,0.1,0.25,0.5,0.75,0.95,0.99])"
   ]
  },
  {
   "cell_type": "markdown",
   "id": "a8bcf95a-6477-4a58-a75a-9b823ef16d71",
   "metadata": {},
   "source": [
    "As per the inital sight analysis, Looks like we have outlier in ***Age, balance, duration, campaign, pdays, previous***, as we can see that There is high deviation in mean and median "
   ]
  },
  {
   "cell_type": "markdown",
   "id": "d3162eb8-5881-47ba-8cd6-58939eaa8990",
   "metadata": {},
   "source": [
    "Confirming with Box Plot, even indicator variable will not show any relationship"
   ]
  },
  {
   "cell_type": "code",
   "execution_count": null,
   "id": "4d1082fd-22b6-4fa9-98ab-e40a126c9342",
   "metadata": {},
   "outputs": [],
   "source": [
    "def outlayer_capping(data=None,numerical_columns=None,mode='6sigmaa',multiplier=3,inplace=False):\n",
    "    if data is None or numerical_columns is None:\n",
    "        raise NotImplemented(\"No DataFrame passed or No Numerical Columns provided\")\n",
    "        return\n",
    "    if inplace:\n",
    "        df = data\n",
    "    else:\n",
    "        df = data.copy()\n",
    "    for column in numerical_columns:\n",
    "        stat = df[column].describe()\n",
    "        # mask = breast_cancer['radius_mean'].between(stat['mean']-2*stat['std'],stat['mean']+2*stat['std'],inclusive='both')\n",
    "        # IQR = stat['75%']-stat['25%']\n",
    "        # value = stat['75%'] + 1.5*IQR\n",
    "        if mode != '6sigma':\n",
    "            df[column]=df[column].clip(lower=df[column].quantile(0.01))\n",
    "            df[column]=df[column].clip(upper=df[column].quantile(0.99))\n",
    "        else:\n",
    "            mask  = (df[column]).le(stat['mean']-multiplier*stat['std'])\n",
    "            (df[column])[mask] = stat['min']\n",
    "\n",
    "            mask  = (df[column]).ge(stat['mean']+multiplier*stat['std'])\n",
    "            (df[column])[mask] = stat['75%']\n",
    "    if inplace==False:\n",
    "        return df"
   ]
  },
  {
   "cell_type": "markdown",
   "id": "46a405a6",
   "metadata": {},
   "source": [
    "### * For Categorical Features"
   ]
  },
  {
   "cell_type": "markdown",
   "id": "83a00067",
   "metadata": {},
   "source": [
    "### * Indicator Variables"
   ]
  },
  {
   "cell_type": "markdown",
   "id": "418845a2-b4d3-475a-b4ce-c867af5fe47b",
   "metadata": {},
   "source": [
    "## 1.2 Missing Value Treatment"
   ]
  },
  {
   "cell_type": "markdown",
   "id": "d650a75b",
   "metadata": {},
   "source": [
    "### * Numerical Features"
   ]
  },
  {
   "cell_type": "code",
   "execution_count": null,
   "id": "85cdb7f0-94ce-473b-86c2-93a610a570dd",
   "metadata": {},
   "outputs": [],
   "source": [
    "df_numerical.isna().sum() "
   ]
  },
  {
   "cell_type": "markdown",
   "id": "5a584847",
   "metadata": {},
   "source": [
    "We dont have any missing values here"
   ]
  },
  {
   "cell_type": "markdown",
   "id": "e24844fe",
   "metadata": {},
   "source": [
    "### * Categorical Features"
   ]
  },
  {
   "cell_type": "code",
   "execution_count": null,
   "id": "46d53423",
   "metadata": {},
   "outputs": [],
   "source": [
    "df_categorical.isna().sum()"
   ]
  },
  {
   "cell_type": "markdown",
   "id": "32e0bfff",
   "metadata": {},
   "source": [
    "Double Checking the levels"
   ]
  },
  {
   "cell_type": "markdown",
   "id": "25b3eeb9",
   "metadata": {},
   "source": [
    "We are Good here as well, No missing value Observed"
   ]
  },
  {
   "cell_type": "markdown",
   "id": "5e01ea1d",
   "metadata": {},
   "source": [
    "### * For indicator Variables"
   ]
  },
  {
   "cell_type": "markdown",
   "id": "53222f59",
   "metadata": {},
   "source": [
    "### 1.3 Correlation Analysis"
   ]
  },
  {
   "cell_type": "markdown",
   "id": "4699a3c4",
   "metadata": {},
   "source": [
    "     - Since we have only 1 feature in Numerical DataFrame, No need to perform this step"
   ]
  },
  {
   "cell_type": "code",
   "execution_count": null,
   "id": "6acba7cf",
   "metadata": {},
   "outputs": [],
   "source": []
  },
  {
   "cell_type": "markdown",
   "id": "1997e319-2751-4a75-bd81-97cbdfc8b749",
   "metadata": {},
   "source": [
    "## 2. Feature Engineering "
   ]
  },
  {
   "cell_type": "markdown",
   "id": "3a8002b7-e712-4192-8a1a-5b317d4b5c8c",
   "metadata": {},
   "source": [
    "### 2.1 New Feature Generation "
   ]
  },
  {
   "cell_type": "code",
   "execution_count": null,
   "id": "475aceea",
   "metadata": {},
   "outputs": [],
   "source": [
    "df_engineered = pd.DataFrame()"
   ]
  },
  {
   "cell_type": "markdown",
   "id": "38cb3b1a",
   "metadata": {},
   "source": [
    "### * Numerical Features"
   ]
  },
  {
   "cell_type": "code",
   "execution_count": null,
   "id": "de00eea1",
   "metadata": {},
   "outputs": [],
   "source": [
    "df_numerical.head()"
   ]
  },
  {
   "cell_type": "code",
   "execution_count": null,
   "id": "c6ae8498",
   "metadata": {},
   "outputs": [],
   "source": [
    "# sns.set(rc = {'figure.figsize':(15,8)})"
   ]
  },
  {
   "cell_type": "markdown",
   "id": "0f93394e",
   "metadata": {},
   "source": [
    "### * Categorical Feature "
   ]
  },
  {
   "cell_type": "markdown",
   "id": "6f793a09",
   "metadata": {},
   "source": [
    "### * Indicator Features"
   ]
  },
  {
   "cell_type": "markdown",
   "id": "2102380d-ab6e-4730-ad37-0b0f7857ce5a",
   "metadata": {},
   "source": [
    "### 2.2 Zero Variance Check "
   ]
  },
  {
   "cell_type": "markdown",
   "id": "17a88b0e",
   "metadata": {},
   "source": [
    "##### *For Numerical Features"
   ]
  },
  {
   "cell_type": "code",
   "execution_count": null,
   "id": "28c3bd76",
   "metadata": {},
   "outputs": [],
   "source": [
    "df_numerical.head()"
   ]
  },
  {
   "cell_type": "markdown",
   "id": "8b17f532",
   "metadata": {},
   "source": [
    "##### *For Indicator Features"
   ]
  },
  {
   "cell_type": "code",
   "execution_count": null,
   "id": "7ed8e279",
   "metadata": {},
   "outputs": [],
   "source": [
    "df_indicator.head()"
   ]
  },
  {
   "cell_type": "code",
   "execution_count": null,
   "id": "6fdf3a5e",
   "metadata": {},
   "outputs": [],
   "source": [
    "from sklearn.feature_selection import VarianceThreshold\n",
    "\n",
    "selector = VarianceThreshold()\n",
    "selector.fit_transform(df_indicator)"
   ]
  },
  {
   "cell_type": "markdown",
   "id": "bbb449d7",
   "metadata": {},
   "source": [
    "Looks all feature are above variance Threshold, As we remember these behaviour are like Categorical"
   ]
  },
  {
   "cell_type": "markdown",
   "id": "1d44c702",
   "metadata": {},
   "source": [
    "#### *For Categorical Variable, Varaince threshold cant be performed"
   ]
  },
  {
   "cell_type": "markdown",
   "id": "c7210a67-cbeb-4833-b57f-ecf73e9787fd",
   "metadata": {},
   "source": [
    "### 2.3 Univariate Analysis"
   ]
  },
  {
   "cell_type": "markdown",
   "id": "c0b18c1b",
   "metadata": {},
   "source": [
    "Before Going to another analysis, Lets Label Encode the target as we have binary value only"
   ]
  },
  {
   "cell_type": "code",
   "execution_count": null,
   "id": "80189006",
   "metadata": {},
   "outputs": [],
   "source": [
    "from sklearn.preprocessing import LabelEncoder\n",
    "\n",
    "le = LabelEncoder()\n",
    "df_target['y'] = le.fit_transform(df_target)\n",
    "df_target.head()"
   ]
  },
  {
   "cell_type": "markdown",
   "id": "b7624832",
   "metadata": {},
   "source": [
    "Not Required Univariate Analysis: Just Data Insight"
   ]
  },
  {
   "cell_type": "markdown",
   "id": "339b3996",
   "metadata": {},
   "source": [
    "### 2.4 Bi Variate Analysis"
   ]
  },
  {
   "cell_type": "markdown",
   "id": "fb75a6da",
   "metadata": {},
   "source": [
    "#### *For Numerical Features\n",
    "    "
   ]
  },
  {
   "cell_type": "code",
   "execution_count": null,
   "id": "6eb14015",
   "metadata": {},
   "outputs": [],
   "source": [
    "from sklearn.preprocessing import KBinsDiscretizer\n",
    "\n",
    "discrete=KBinsDiscretizer(n_bins=10,encode='ordinal', strategy='quantile')\n",
    "num_binned=pd.DataFrame(discrete.fit_transform(df_numerical),index=df_numerical.index, columns=df_numerical.columns).add_suffix('_Rank')\n",
    "num_binned.head()"
   ]
  },
  {
   "cell_type": "code",
   "execution_count": null,
   "id": "be6196e6",
   "metadata": {},
   "outputs": [],
   "source": [
    "df_numerical_binned = pd.concat([num_binned,df_target],axis=1)"
   ]
  },
  {
   "cell_type": "code",
   "execution_count": null,
   "id": "d490e41d",
   "metadata": {},
   "outputs": [],
   "source": [
    "sns.barplot(x='balance_Rank',y='y',data=df_numerical_binned,estimator=np.mean)"
   ]
  },
  {
   "cell_type": "markdown",
   "id": "e0e0159e",
   "metadata": {},
   "source": [
    "#### *For Indicator Features"
   ]
  },
  {
   "cell_type": "code",
   "execution_count": null,
   "id": "05b0ebbb",
   "metadata": {},
   "outputs": [],
   "source": [
    "from sklearn.preprocessing import KBinsDiscretizer\n",
    "\n",
    "discrete=KBinsDiscretizer(n_bins=10,encode='ordinal', strategy='quantile')\n",
    "indicator_binned=pd.DataFrame(discrete.fit_transform(df_indicator),index=df_indicator.index, columns=df_indicator.columns).add_suffix('_Rank')\n",
    "df_indicator_binned = pd.concat([indicator_binned,df_target],axis=1)\n",
    "df_indicator_binned.head()"
   ]
  },
  {
   "cell_type": "code",
   "execution_count": null,
   "id": "a6c4d5c7",
   "metadata": {},
   "outputs": [],
   "source": [
    "for col in df_indicator_binned.columns:\n",
    "    plt.figure()\n",
    "    sns.barplot(x=col,y='y',data=df_indicator_binned,estimator=np.mean)\n",
    "plt.show()"
   ]
  },
  {
   "cell_type": "code",
   "execution_count": null,
   "id": "41107c85",
   "metadata": {},
   "outputs": [],
   "source": [
    "df_indicator.drop(columns='pdays',axis=1,inplace=True)"
   ]
  },
  {
   "cell_type": "markdown",
   "id": "80e3bebc",
   "metadata": {},
   "source": [
    "#### * For Categorical Feature"
   ]
  },
  {
   "cell_type": "code",
   "execution_count": null,
   "id": "4e1e262c",
   "metadata": {},
   "outputs": [],
   "source": [
    "df_categorical_merged = pd.concat([df_categorical,df_target],axis=1)\n",
    "\n",
    "for col in (df_categorical_merged.columns):\n",
    "    plt.figure()\n",
    "    sns.barplot(x=col, y=\"y\",data=df_categorical_merged, estimator=np.mean )\n",
    "plt.show()"
   ]
  },
  {
   "cell_type": "markdown",
   "id": "887424f1",
   "metadata": {},
   "source": [
    "     Looks all good predictor here; Retaining all in categorical Features"
   ]
  },
  {
   "cell_type": "markdown",
   "id": "ae0df693",
   "metadata": {},
   "source": [
    "### 2.5 Feature Selection"
   ]
  },
  {
   "cell_type": "markdown",
   "id": "12aadd4b",
   "metadata": {},
   "source": [
    "#### *For Numerical Features"
   ]
  },
  {
   "cell_type": "code",
   "execution_count": null,
   "id": "726ab75f",
   "metadata": {},
   "outputs": [],
   "source": [
    "# from sklearn.feature_selection import SelectKBest,chi2\n",
    "\n",
    "# features = SelectKBest(chi2,k=1).fit_transform(df_numerical,df_target)\n",
    "# features\n",
    "\n",
    "# As we dont have much column here to select K < length. Also we have Balance In Negative(causing issue)\n",
    "# (Skipping for Numerical Features)"
   ]
  },
  {
   "cell_type": "markdown",
   "id": "cb1b1015",
   "metadata": {},
   "source": [
    "#### *For Indicator Features + Categorical Features + Engineered Features"
   ]
  },
  {
   "cell_type": "code",
   "execution_count": null,
   "id": "c416de1e",
   "metadata": {},
   "outputs": [],
   "source": []
  },
  {
   "cell_type": "code",
   "execution_count": null,
   "id": "dd7b2241",
   "metadata": {},
   "outputs": [],
   "source": [
    "df_categorical_final = pd.concat([df_categorical,df_indicator,df_engineered],axis=1)"
   ]
  },
  {
   "cell_type": "markdown",
   "id": "eb671214",
   "metadata": {},
   "source": [
    "    - For selecting K-Best Feature the X should be negative so lets replace -1 with Max value of pdays column.\n",
    "    - WHY: -1 shows Never Contacted as replacing the value with max number means that it contacted long back, which will be statistically same ('_')"
   ]
  },
  {
   "cell_type": "code",
   "execution_count": null,
   "id": "469f4e26",
   "metadata": {},
   "outputs": [],
   "source": [
    "# df_indicator.pdays.replace(to_replace=-1,value=df_indicator.pdays.max(),inplace=True)"
   ]
  },
  {
   "cell_type": "code",
   "execution_count": null,
   "id": "3beb9cc3",
   "metadata": {},
   "outputs": [],
   "source": [
    "from sklearn.feature_selection import SelectKBest,chi2\n",
    "\n",
    "features = SelectKBest(chi2,k=4)\n",
    "features.fit_transform(df_indicator,df_target)\n",
    "final_columns = df_indicator.iloc[:,features.get_support(indices=True).tolist()].columns\n",
    "final_columns"
   ]
  },
  {
   "cell_type": "code",
   "execution_count": null,
   "id": "907ba653",
   "metadata": {},
   "outputs": [],
   "source": [
    "# Removed Columns \n",
    "[item for item in df_indicator.columns if item not in final_columns]"
   ]
  },
  {
   "cell_type": "markdown",
   "id": "ec0eceb6",
   "metadata": {},
   "source": [
    "    Since we have less feature and also #Age# was taking part in prediction, we are not removing here any columns"
   ]
  },
  {
   "cell_type": "markdown",
   "id": "000767ed",
   "metadata": {},
   "source": [
    "#### *For Categorical  Features"
   ]
  },
  {
   "cell_type": "markdown",
   "id": "54263812",
   "metadata": {},
   "source": [
    "### One Hot Encoding"
   ]
  },
  {
   "cell_type": "code",
   "execution_count": null,
   "id": "d3f7f4ad",
   "metadata": {},
   "outputs": [],
   "source": [
    "pd.concat([df_numerical,df_categorical_final,df_target],axis=1)"
   ]
  },
  {
   "cell_type": "code",
   "execution_count": null,
   "id": "1060c897",
   "metadata": {},
   "outputs": [],
   "source": [
    "df_categorical_encoded = pd.get_dummies(df_categorical_final, drop_first = True)\n",
    "df_categorical_encoded.head()"
   ]
  },
  {
   "cell_type": "code",
   "execution_count": null,
   "id": "a856d79b",
   "metadata": {},
   "outputs": [],
   "source": [
    "df_categorical_encoded.shape"
   ]
  },
  {
   "cell_type": "code",
   "execution_count": null,
   "id": "a0ae7379",
   "metadata": {},
   "outputs": [],
   "source": [
    "# Select K Best for Categorical Features\n",
    "from sklearn.feature_selection import SelectKBest, chi2\n",
    "\n",
    "selector = SelectKBest(chi2, k=60)\n",
    "selector.fit_transform(df_categorical_encoded, df_target)\n",
    "# Get columns to keep and create new dataframe with those only\n",
    "\n",
    "df_categorical_encoded_selected = df_categorical_encoded.iloc[:,selector.get_support(indices=True)]"
   ]
  },
  {
   "cell_type": "code",
   "execution_count": null,
   "id": "cad60ee8",
   "metadata": {},
   "outputs": [],
   "source": []
  },
  {
   "cell_type": "code",
   "execution_count": null,
   "id": "a9f7788c",
   "metadata": {},
   "outputs": [],
   "source": [
    "df_categorical_encoded_selected.head(3)"
   ]
  },
  {
   "cell_type": "markdown",
   "id": "5ad85679",
   "metadata": {},
   "source": [
    "## Features Assemble"
   ]
  },
  {
   "cell_type": "code",
   "execution_count": null,
   "id": "13c257a8",
   "metadata": {},
   "outputs": [],
   "source": [
    "X = pd.concat([df_numerical,df_categorical_encoded_selected],axis=1)\n",
    "y = df_target['y']"
   ]
  },
  {
   "cell_type": "code",
   "execution_count": null,
   "id": "01b1a1cb",
   "metadata": {},
   "outputs": [],
   "source": [
    "# if one hot encoding is not performed\n",
    "X = pd.concat([df_numerical,df_categorical_final],axis=1)"
   ]
  },
  {
   "cell_type": "code",
   "execution_count": null,
   "id": "1706d3b8",
   "metadata": {},
   "outputs": [],
   "source": [
    "# For Avoiding all other process\n",
    "pd.concat([X,y],axis=1).to_csv(\"processed_raw.csv\",index=False)"
   ]
  },
  {
   "cell_type": "markdown",
   "id": "14169fe8-f67c-4331-8055-bd919f334d0c",
   "metadata": {},
   "source": [
    "## 3. Model Building"
   ]
  },
  {
   "cell_type": "code",
   "execution_count": null,
   "id": "083ff343",
   "metadata": {},
   "outputs": [],
   "source": []
  },
  {
   "cell_type": "code",
   "execution_count": null,
   "id": "681e4cda",
   "metadata": {},
   "outputs": [],
   "source": [
    "X = pd.read_csv(\"processed.csv\")\n",
    "y = X['y']\n",
    "X.drop(columns='y',axis=1,inplace=True)"
   ]
  },
  {
   "cell_type": "code",
   "execution_count": null,
   "id": "d79c49be",
   "metadata": {},
   "outputs": [],
   "source": [
    "from sklearn.model_selection import train_test_split\n",
    "\n",
    "X_train, X_test, y_train, y_test=train_test_split(X, y, test_size=0.3, shuffle=True, random_state=37)"
   ]
  },
  {
   "cell_type": "code",
   "execution_count": null,
   "id": "6f675d5b",
   "metadata": {},
   "outputs": [],
   "source": [
    "# With Standerdized\n",
    "from sklearn.preprocessing import StandardScaler\n",
    "\n",
    "sc = StandardScaler()\n",
    "X_scaled = sc.fit_transform(X)\n",
    "\n",
    "X_train_scaled,X_test_scaled,y_train_scaled,y_test_scaled = train_test_split(X_scaled,y,test_size=0.3,shuffle=True,random_state=29)"
   ]
  },
  {
   "cell_type": "markdown",
   "id": "bc207faf",
   "metadata": {},
   "source": [
    "### 3.1 RandomForest Classifier"
   ]
  },
  {
   "cell_type": "markdown",
   "id": "54a7497e",
   "metadata": {},
   "source": [
    "#### *Nos of Estimator Selection"
   ]
  },
  {
   "cell_type": "markdown",
   "id": "70edb902",
   "metadata": {},
   "source": [
    "OOB(Out of bag error will be used to select the no of estimators(tree))"
   ]
  },
  {
   "cell_type": "code",
   "execution_count": null,
   "id": "5700e457",
   "metadata": {},
   "outputs": [],
   "source": [
    "from sklearn.ensemble import RandomForestClassifier\n",
    "\n",
    "rf=RandomForestClassifier(random_state=17)"
   ]
  },
  {
   "cell_type": "code",
   "execution_count": null,
   "id": "77cbfd76",
   "metadata": {},
   "outputs": [],
   "source": [
    "rf.set_params(warm_start=True, \n",
    "                  oob_score=True)\n",
    "\n",
    "min_estimators = 15\n",
    "max_estimators = 1000\n",
    "\n",
    "error_rate = {}\n",
    "\n",
    "for i in range(min_estimators, max_estimators + 1):\n",
    "    rf.set_params(n_estimators=i)\n",
    "    rf.fit(X_train, y_train)\n",
    "\n",
    "    oob_error = 1 - rf.oob_score_\n",
    "    error_rate[i] = oob_error"
   ]
  },
  {
   "cell_type": "code",
   "execution_count": null,
   "id": "ffe5357d",
   "metadata": {},
   "outputs": [],
   "source": [
    "oob_series = pd.Series(error_rate)"
   ]
  },
  {
   "cell_type": "code",
   "execution_count": null,
   "id": "a6874b27",
   "metadata": {},
   "outputs": [],
   "source": [
    "fig, ax = plt.subplots(figsize=(10, 10))\n",
    "\n",
    "ax.set_facecolor('#fafafa')\n",
    "\n",
    "oob_series.plot(kind='line',color = 'red')\n",
    "plt.axhline(0.055, color='#875FDB',linestyle='--')\n",
    "plt.axhline(0.05, color='#875FDB',linestyle='--')\n",
    "plt.xlabel('n_estimators')\n",
    "plt.ylabel('OOB Error Rate')\n",
    "plt.title('OOB Error Rate Across various Forest sizes \\n(From 15 to 1000 trees)')"
   ]
  },
  {
   "cell_type": "code",
   "execution_count": null,
   "id": "b7e3e504",
   "metadata": {},
   "outputs": [],
   "source": [
    "rf.set_params(n_estimators=200,oob_score=False)"
   ]
  },
  {
   "cell_type": "code",
   "execution_count": null,
   "id": "a2cc81df",
   "metadata": {},
   "outputs": [],
   "source": [
    "from sklearn.model_selection import GridSearchCV\n",
    "\n",
    "param_dist = {'bootstrap': [True,False], 'criterion': ['gini','entropy'],'max_depth': [3, 5, 6, 7], 'min_samples_split': [50, 100, 150, 250, 500],'min_samples_leaf': [10,15,30,45,60] }\n",
    "\n",
    "tree_grid = GridSearchCV(rf, cv = 5, param_grid=param_dist,n_jobs = 3,verbose=4)\n",
    "tree_grid.fit(X_train,y_train) \n",
    "\n",
    "print('Best Parameters using grid search: \\n', tree_grid.best_params_)\n",
    "print(\"Best Score\", tree_grid.best_score_)"
   ]
  },
  {
   "cell_type": "code",
   "execution_count": null,
   "id": "3ee8be92",
   "metadata": {},
   "outputs": [],
   "source": [
    "CV_result = pd.DataFrame(tree_grid.cv_results_)"
   ]
  },
  {
   "cell_type": "code",
   "execution_count": null,
   "id": "df5892dc",
   "metadata": {},
   "outputs": [],
   "source": [
    "CV_result = CV_result.iloc[:,10:]"
   ]
  },
  {
   "cell_type": "code",
   "execution_count": null,
   "id": "5693008b",
   "metadata": {},
   "outputs": [],
   "source": [
    "pd.DataFrame(tree_grid.cv_results_)[CV_result.params == tree_grid.best_params_]"
   ]
  },
  {
   "cell_type": "code",
   "execution_count": null,
   "id": "6908e408",
   "metadata": {},
   "outputs": [],
   "source": [
    "CV_result.describe()"
   ]
  },
  {
   "cell_type": "code",
   "execution_count": null,
   "id": "bce35c26",
   "metadata": {},
   "outputs": [],
   "source": [
    "# from sklearn.model_selection import GridSearchCV\n",
    "\n",
    "# param_dist = {'bootstrap': [False], 'criterion': ['gini'],'max_depth': [7,8,9,10], 'min_samples_split': [50, 100, 150],'min_samples_leaf': [10,15,30] }\n",
    "\n",
    "# tree_grid = GridSearchCV(rf, cv = 3, param_grid=param_dist,n_jobs = 3,verbose=4,return_train_score=True,scoring='accuracy')\n",
    "# tree_grid.fit(X_train,y_train) \n",
    "\n",
    "# print('Best Parameters using grid search: \\n', tree_grid.best_params_)\n",
    "# print(\"Best Score\", tree_grid.best_score_)"
   ]
  },
  {
   "cell_type": "code",
   "execution_count": null,
   "id": "42fa31d0",
   "metadata": {},
   "outputs": [],
   "source": [
    "rf = RandomForestClassifier(bootstrap=False,criterion='gini',max_depth=10,min_samples_leaf=15,min_samples_split=50)"
   ]
  },
  {
   "cell_type": "code",
   "execution_count": null,
   "id": "2a1016c9",
   "metadata": {},
   "outputs": [],
   "source": [
    "rf.fit(X_train,y_train)"
   ]
  },
  {
   "cell_type": "code",
   "execution_count": null,
   "id": "712af6b3",
   "metadata": {},
   "outputs": [],
   "source": [
    "def feature_importance(fitted_model=None,dataFrame=None,return_top_x=None,display=True,height=400):\n",
    "    \"\"\"\n",
    "    Purpose\n",
    "    ----------\n",
    "    Prints dependent variable names ordered from largest to smallest\n",
    "    based on information gain for CART model.\n",
    "    Parameters\n",
    "    ----------\n",
    "    * return_top_x(int): Array of Features till top X which are contributing more \n",
    "    * dataframe: Dataframe required to calculated columns : This dataframe only used for training\n",
    "    * fitted_model: Trained Model required\n",
    "\n",
    "    Returns\n",
    "    ----------\n",
    "    Return top X feature if parameter passed\n",
    "    \"\"\"\n",
    "    import plotly.express as px\n",
    "    \n",
    "    if fitted_model is None or dataFrame is None:\n",
    "        raise EOFError(\"Failed to Load model or Root DataFrame\")\n",
    "    ranking = pd.DataFrame(\n",
    "        {\n",
    "            'features':dataFrame.columns[:-1].to_list(),\n",
    "            \"importance\":fitted_model.feature_importances_}).sort_values('importance',ascending=True).reset_index(drop=True)\n",
    "    if display:\n",
    "        fig = px.bar(ranking, y='features', x='importance', text='importance',orientation='h',title=\"Feature Importance Table\",)\n",
    "        fig.update_traces(texttemplate='%{text:.2f}', textposition='outside')\n",
    "        fig.update_layout(uniformtext_minsize=10, uniformtext_mode='hide',height=height)\n",
    "        fig.show()\n",
    "    if return_top_x is not None and return_top_x <= len(ranking['features'].to_list()):\n",
    "        return ranking['features'].to_list()[:return_top_x]"
   ]
  },
  {
   "cell_type": "code",
   "execution_count": null,
   "id": "1e2cbcda",
   "metadata": {},
   "outputs": [],
   "source": [
    "feature_importance(fitted_model=rf,dataFrame=pd.concat([X,y],axis=1),height=800)"
   ]
  },
  {
   "cell_type": "code",
   "execution_count": null,
   "id": "fbc5f711",
   "metadata": {},
   "outputs": [],
   "source": []
  },
  {
   "cell_type": "markdown",
   "id": "786495de-44ba-45e6-a0b8-7ff37a21a21e",
   "metadata": {},
   "source": [
    "### 3.1 DecisionTree Classifier"
   ]
  },
  {
   "cell_type": "code",
   "execution_count": null,
   "id": "f6d96129",
   "metadata": {},
   "outputs": [],
   "source": [
    "from sklearn.tree import DecisionTreeClassifier\n",
    "\n",
    "dtree=DecisionTreeClassifier(random_state=0)"
   ]
  },
  {
   "cell_type": "code",
   "execution_count": null,
   "id": "c8b9b7f4",
   "metadata": {},
   "outputs": [],
   "source": [
    "from sklearn.model_selection import GridSearchCV\n",
    "param_dist = {'criterion': ['gini','entropy'],'max_depth': [6,7,9,10,12], 'min_samples_split': [50, 100, 150, 200],'min_samples_leaf': [10,15,20,30,45] }\n",
    "tree_grid = GridSearchCV(dtree, cv = 7, param_grid=param_dist,n_jobs = 3,verbose=4,return_train_score=True,scoring='accuracy')\n",
    "tree_grid.fit(X_train,y_train) \n",
    "print('Best Parameters using grid search: \\n', tree_grid.best_params_)\n",
    "print(\"Best Score\", tree_grid.best_score_)"
   ]
  },
  {
   "cell_type": "code",
   "execution_count": null,
   "id": "5de3b05b",
   "metadata": {},
   "outputs": [],
   "source": [
    "dtree=DecisionTreeClassifier(\n",
    "    criterion='gini',\n",
    "    random_state=0,\n",
    "    max_depth=7,\n",
    "    min_samples_split=100,\n",
    "    min_samples_leaf=30)\n",
    "\n",
    "dtree.fit(X_train,y_train)"
   ]
  },
  {
   "cell_type": "markdown",
   "id": "5e0dd11f",
   "metadata": {},
   "source": [
    "##### Plotting Tree"
   ]
  },
  {
   "cell_type": "code",
   "execution_count": null,
   "id": "2ce4564d",
   "metadata": {},
   "outputs": [],
   "source": [
    "from sklearn import tree\n",
    "import pydotplus\n",
    "import matplotlib.pyplot as plt\n",
    "plt.figure(figsize=[50,10])\n",
    "tree.plot_tree(dtree,filled=True,fontsize=15,rounded=True,feature_names=X.columns)\n",
    "plt.show()"
   ]
  },
  {
   "cell_type": "markdown",
   "id": "6c83998b-8f4b-4595-a8cc-4a1496a36e5e",
   "metadata": {},
   "source": [
    "### 3.2 Logistic Regression"
   ]
  },
  {
   "cell_type": "code",
   "execution_count": null,
   "id": "216872ea",
   "metadata": {},
   "outputs": [],
   "source": [
    "from sklearn.linear_model import LogisticRegression\n",
    "\n",
    "logreg=LogisticRegression(random_state=0)\n",
    "logreg.fit(X_train_scaled,y_train_scaled)"
   ]
  },
  {
   "cell_type": "code",
   "execution_count": null,
   "id": "52e245e2",
   "metadata": {},
   "outputs": [],
   "source": [
    "coeff_df=pd.DataFrame(X.columns)\n",
    "coeff_df.columns=['features']\n",
    "coeff_df[\"Coefficient Estimate\"] = pd.Series(logreg.coef_[0])\n",
    "coeff_df"
   ]
  },
  {
   "cell_type": "markdown",
   "id": "c897a8d6-96f9-46be-892c-24b26a3d5c20",
   "metadata": {},
   "source": [
    "### 3.3 GradientBoosing Classifier (Bagging)"
   ]
  },
  {
   "cell_type": "code",
   "execution_count": null,
   "id": "01070a0a",
   "metadata": {},
   "outputs": [],
   "source": [
    "from sklearn.ensemble import GradientBoostingClassifier\n",
    "gbm=GradientBoostingClassifier(random_state=0)"
   ]
  },
  {
   "cell_type": "code",
   "execution_count": null,
   "id": "30bffe2b",
   "metadata": {},
   "outputs": [],
   "source": [
    "from sklearn.model_selection import GridSearchCV\n",
    "\n",
    "# param_dist = {'learning_rate': [0.001, 0.01, 0.1], 'loss': ['deviance', 'exponential'],'max_depth': [3, 5, 6, 7,10,15], 'min_samples_split': [50, 100, 150, 200, 250, 500],'min_samples_leaf': [10,15,20,30,45,60] }\n",
    "param_dist = {'learning_rate': [0.1], 'loss': ['deviance'],'max_depth': [6,7,10], 'min_samples_split': [50, 100, 150],'min_samples_leaf': [20,30,45,60] }\n",
    "\n",
    "tree_grid = GridSearchCV(gbm, cv = 5, param_grid=param_dist,n_jobs = 3,verbose=4,return_train_score=True,scoring='accuracy')\n",
    "tree_grid.fit(X_train,y_train) \n",
    "\n",
    "print('Best Parameters using grid search: \\n', tree_grid.best_params_)\n",
    "print(\"Best Score\", tree_grid.best_score_)"
   ]
  },
  {
   "cell_type": "code",
   "execution_count": null,
   "id": "2eddd4a5",
   "metadata": {},
   "outputs": [],
   "source": [
    "gbm=GradientBoostingClassifier(\n",
    "    learning_rate=0.1,\n",
    "    random_state=0,\n",
    "    loss='deviance',\n",
    "    max_depth=7,\n",
    "    min_samples_split=50,\n",
    "    min_samples_leaf=20)\n",
    "\n",
    "gbm.fit(X_train,y_train)"
   ]
  },
  {
   "cell_type": "markdown",
   "id": "cd154619-a2d2-461c-9eaa-c0a954842da4",
   "metadata": {},
   "source": [
    "### 3.4 SVC Classifer"
   ]
  },
  {
   "cell_type": "code",
   "execution_count": null,
   "id": "f266c92b",
   "metadata": {},
   "outputs": [],
   "source": [
    "from sklearn.svm import SVC\n",
    "svm_clf = SVC(gamma='auto')"
   ]
  },
  {
   "cell_type": "code",
   "execution_count": null,
   "id": "9d397054",
   "metadata": {},
   "outputs": [],
   "source": [
    "from sklearn.model_selection import GridSearchCV\n",
    "\n",
    "param_dist = {'kernel': ['rbf' ],\n",
    "              'C': [0.1, 1, 10],\n",
    "              'gamma': [1, 0.1]}\n",
    "\n",
    "tree_grid = GridSearchCV(svm_clf, cv=5, param_grid=param_dist, n_jobs=3,\n",
    "                         verbose=4, return_train_score=True, scoring='accuracy')\n",
    "tree_grid.fit(X_train, y_train)\n",
    "\n",
    "print('Best Parameters using grid search: \\n', tree_grid.best_params_)\n",
    "print(\"Best Score\", tree_grid.best_score_)"
   ]
  },
  {
   "cell_type": "code",
   "execution_count": null,
   "id": "f59ae801",
   "metadata": {},
   "outputs": [],
   "source": [
    "svm_clf = SVC(gamma='auto',c)"
   ]
  },
  {
   "cell_type": "markdown",
   "id": "4a7d7a49",
   "metadata": {},
   "source": [
    "### 3.4 XG Boost Classifier (Boosting)"
   ]
  },
  {
   "cell_type": "code",
   "execution_count": null,
   "id": "274b12df",
   "metadata": {},
   "outputs": [],
   "source": [
    "import xgboost as xgb\n",
    "\n",
    "xgb = xgb.XGBClassifier(tree_method='gpu_hist')"
   ]
  },
  {
   "cell_type": "code",
   "execution_count": null,
   "id": "1ebbdc64",
   "metadata": {},
   "outputs": [],
   "source": [
    "from sklearn.model_selection import GridSearchCV\n",
    "\n",
    "param_grid = {\n",
    "    \"max_depth\": [6, 7,9,10],\n",
    "    \"learning_rate\": [0.1, 0.01],\n",
    "    \"gamma\": [0, 0.25, 1],\n",
    "    \"reg_lambda\": [0, 1, 10],\n",
    "    \"scale_pos_weight\": [1, 3, 5],\n",
    "    \"subsample\": [0.8],\n",
    "    \"colsample_bytree\": [0.5],\n",
    "}\n",
    "\n",
    "tree_grid = GridSearchCV(xgb, param_grid, n_jobs=-1, cv=3, scoring=\"roc_auc\")\n",
    "tree_grid.fit(X_train,y_train) \n",
    "\n",
    "print('Best Parameters using grid search: \\n', tree_grid.best_params_)\n",
    "print(\"Best Score\", tree_grid.best_score_)"
   ]
  },
  {
   "cell_type": "code",
   "execution_count": null,
   "id": "b0fca5a0",
   "metadata": {},
   "outputs": [],
   "source": [
    "import xgboost as xgb\n",
    "xgb_clf = xgb.XGBClassifier(\n",
    "    max_depth=10, \n",
    "    learning_rate=0.1,\n",
    "    gamma=1,\n",
    "    reg_lambda=10,\n",
    "    scale_pos_weight=5,\n",
    "    subsample=0.8,\n",
    "    colsample_bytree=0.5,tree_method='gpu_hist')\n",
    "\n",
    "xgb_clf.fit(X_train,y_train)"
   ]
  },
  {
   "cell_type": "markdown",
   "id": "1822dfd7-bdfa-4a6b-867b-42168ba43e21",
   "metadata": {},
   "source": [
    "### 3.5 Stacking Classifier"
   ]
  },
  {
   "cell_type": "code",
   "execution_count": null,
   "id": "8ea8bfef",
   "metadata": {},
   "outputs": [],
   "source": [
    "base_learners = [('rf',\n",
    "                  RandomForestClassifier(bootstrap=False,\n",
    "                                         criterion='gini',\n",
    "                                         max_depth=10,\n",
    "                                         min_samples_leaf=15,\n",
    "                                         min_samples_split=50)),\n",
    "                 ('gbm',\n",
    "                  GradientBoostingClassifier(learning_rate=0.1,\n",
    "                                             random_state=0,\n",
    "                                             loss='deviance',\n",
    "                                             max_depth=7,\n",
    "                                             min_samples_split=50,\n",
    "                                             min_samples_leaf=20)),\n",
    "                 ('xgb_clf',\n",
    "                  xgb.XGBClassifier(max_depth=10,\n",
    "                                    learning_rate=0.1,\n",
    "                                    gamma=1,\n",
    "                                    reg_lambda=10,\n",
    "                                    scale_pos_weight=5,\n",
    "                                    subsample=0.8,\n",
    "                                    colsample_bytree=0.5,\n",
    "                                    tree_method='gpu_hist')),\n",
    "                 ('dtree',\n",
    "                  DecisionTreeClassifier(criterion='gini',\n",
    "                                         random_state=0,\n",
    "                                         max_depth=7,\n",
    "                                         min_samples_split=100,\n",
    "                                         min_samples_leaf=30))]"
   ]
  },
  {
   "cell_type": "code",
   "execution_count": null,
   "id": "668749c0",
   "metadata": {},
   "outputs": [],
   "source": [
    "from sklearn.ensemble import StackingClassifier\n",
    "stack_clf = StackingClassifier(estimators=base_learners, final_estimator=LogisticRegression())\n",
    "\n",
    "stack_clf.fit(X_train, y_train)"
   ]
  },
  {
   "cell_type": "markdown",
   "id": "4d3f4fb0-94e7-4402-afc0-8195840f1062",
   "metadata": {},
   "source": [
    "## 4. Model Evaluation "
   ]
  },
  {
   "cell_type": "markdown",
   "id": "3fe157e2-2515-499d-ba11-b305b44d7f14",
   "metadata": {},
   "source": [
    "### 4.1 Metric Evaluation (Accuracy, Precision, Recall, F1-score, ROC Curve) "
   ]
  },
  {
   "cell_type": "code",
   "execution_count": null,
   "id": "e406164a-8816-4e1c-970e-3ab8748fecca",
   "metadata": {},
   "outputs": [],
   "source": [
    "from sklearn.metrics import accuracy_score,recall_score,precision_score"
   ]
  },
  {
   "cell_type": "code",
   "execution_count": null,
   "id": "64d25e65-1b95-41a0-9538-6a458048ae0d",
   "metadata": {},
   "outputs": [],
   "source": [
    "models = [dtree,logreg,rf,gbm,xgb_clf,stack_clf]"
   ]
  },
  {
   "cell_type": "code",
   "execution_count": null,
   "id": "b638201d",
   "metadata": {},
   "outputs": [],
   "source": [
    "from sklearn import metrics\n",
    "response = []\n",
    "for model in models:\n",
    "    y_pred = model.predict(X_test)\n",
    "    accuracy = metrics.accuracy_score(y_test, y_pred)\n",
    "    precision = metrics.precision_score(y_test,y_pred)\n",
    "    recall = metrics.recall_score(y_test,y_pred)\n",
    "    f1_score = metrics.f1_score(y_test,y_pred)\n",
    "    \n",
    "    e = {'Model':str(model),'Y_pred':y_pred, 'accuracy':accuracy, 'precision':precision,'recall':recall,'f1_score':f1_score }\n",
    "    response.append(e)\n",
    "    \n",
    "result = pd.DataFrame(response)"
   ]
  },
  {
   "cell_type": "code",
   "execution_count": null,
   "id": "7046c45d",
   "metadata": {},
   "outputs": [],
   "source": [
    "result"
   ]
  },
  {
   "cell_type": "code",
   "execution_count": null,
   "id": "66e09266",
   "metadata": {},
   "outputs": [],
   "source": [
    "import plotly.graph_objects as go\n",
    "model_list = ['DecisionTree','LogisticReg','RandomForest','GradientBoosting','XGB','StackCLF']\n",
    "\n",
    "fig = go.Figure(data=[\n",
    "    go.Bar(name=result[item].name, x=model_list, y=result[item]) for item in result.columns[2:]\n",
    "])\n",
    "# Change the bar mode\n",
    "fig.update_layout(barmode='group',title=\"Different Model Metric Comparison \",height=700)\n",
    "fig.show()"
   ]
  },
  {
   "cell_type": "code",
   "execution_count": null,
   "id": "09901300",
   "metadata": {},
   "outputs": [],
   "source": []
  }
 ],
 "metadata": {
  "kernelspec": {
   "display_name": "Python 3 (ipykernel)",
   "language": "python",
   "name": "python3"
  },
  "language_info": {
   "codemirror_mode": {
    "name": "ipython",
    "version": 3
   },
   "file_extension": ".py",
   "mimetype": "text/x-python",
   "name": "python",
   "nbconvert_exporter": "python",
   "pygments_lexer": "ipython3",
   "version": "3.9.7"
  }
 },
 "nbformat": 4,
 "nbformat_minor": 5
}
